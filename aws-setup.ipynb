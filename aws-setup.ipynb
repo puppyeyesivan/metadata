Step 1: download SSH key document, copy it to the created directory

Step 2: Set up aws command line, create cluster on AWS (in terminal)
cd: ~/Library/Python/2.7
export PATH=~/Library/Python/2.7/bin:$PATH
aws --version

cd: desktop/'data analysis'/Havard/Project
aws configure
aws emr create-cluster --name "Yifan Project" --ami-version 3.10 --application Name=Spark --ec2-attributes KeyName=cs109 --instance-type m1.medium --instance-count 3 --use-default-roles

#Create the Spark cluster
Run the following on the command line:
export CLUSTER_ID=`aws emr create-cluster --name "CS109 Spark cluster" \
--ami-version 3.10 --applications Name=Spark --ec2-attributes KeyName=CS109 \
--instance-type m1.medium --instance-count 3 --use-default-roles \
--bootstrap-actions Path=s3://cs109-2015/install-anaconda,Name=Install_Anaconda \
--query 'ClusterId' --output text` && echo $CLUSTER_ID
The output of this command will be something like the following (your actual value will be different):
j-33S87OUETACNK#
#I doubt for this part, so I quote them for now#

#vargrant#
sudo rm /opt/vagrant/embedded/bin/curl
